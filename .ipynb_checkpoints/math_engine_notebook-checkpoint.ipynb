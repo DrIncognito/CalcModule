{
 "cells": [
  {
   "cell_type": "markdown",
   "id": "39f00c09",
   "metadata": {},
   "source": [
    "# 🧮 Math Calculation Engine - Interactive Notebook\n",
    "\n",
    "Welcome to the Math Calculation Engine! This notebook provides an interactive environment for exploring mathematical calculations using our modular engine.\n",
    "\n",
    "## Features\n",
    "- ✅ Strict argument validation\n",
    "- ✅ Extensible operation system  \n",
    "- ✅ Comprehensive error handling\n",
    "- ✅ Multiple operation categories\n",
    "\n",
    "Let's start by importing the engine components:"
   ]
  },
  {
   "cell_type": "code",
   "execution_count": null,
   "id": "ad66f92f",
   "metadata": {},
   "outputs": [],
   "source": [
    "# Import the Math Calculation Engine\n",
    "from core import calculate, Operation, list_operations, get_operation_info\n",
    "\n",
    "print(\"🚀 Math Calculation Engine loaded successfully!\")\n",
    "print(f\"📊 Available operations: {len(list_operations())}\")"
   ]
  },
  {
   "cell_type": "markdown",
   "id": "1a52cc8c",
   "metadata": {},
   "source": [
    "## 📋 Available Operations\n",
    "\n",
    "Let's explore what operations are available:"
   ]
  },
  {
   "cell_type": "code",
   "execution_count": null,
   "id": "1c2b122b",
   "metadata": {},
   "outputs": [],
   "source": [
    "# List all available operations\n",
    "operations = list_operations()\n",
    "\n",
    "print(\"Available Operations:\")\n",
    "print(\"=\" * 50)\n",
    "\n",
    "for op_info in operations:\n",
    "    print(f\"🔹 {op_info['operation'].name}\")\n",
    "    print(f\"   Required args: {', '.join(op_info['required_args'])}\")\n",
    "    if op_info['docstring']:\n",
    "        print(f\"   Description: {op_info['docstring'].strip()}\")\n",
    "    print()"
   ]
  },
  {
   "cell_type": "markdown",
   "id": "e90b65c4",
   "metadata": {},
   "source": [
    "## 🔢 Basic Arithmetic Operations\n",
    "\n",
    "Let's start with some basic arithmetic:"
   ]
  },
  {
   "cell_type": "code",
   "execution_count": null,
   "id": "296fc07b",
   "metadata": {},
   "outputs": [],
   "source": [
    "# Addition\n",
    "result = calculate(operation=Operation.ADD, a=15, b=27)\n",
    "print(f\"15 + 27 = {result}\")\n",
    "\n",
    "# Subtraction\n",
    "result = calculate(operation=Operation.SUBTRACT, a=100, b=42)\n",
    "print(f\"100 - 42 = {result}\")\n",
    "\n",
    "# Multiplication\n",
    "result = calculate(operation=Operation.MULTIPLY, a=7, b=8)\n",
    "print(f\"7 × 8 = {result}\")\n",
    "\n",
    "# Division\n",
    "result = calculate(operation=Operation.DIVIDE, a=144, b=12)\n",
    "print(f\"144 ÷ 12 = {result}\")"
   ]
  },
  {
   "cell_type": "markdown",
   "id": "3e219555",
   "metadata": {},
   "source": [
    "## ⚡ Power and Root Operations"
   ]
  },
  {
   "cell_type": "code",
   "execution_count": null,
   "id": "dbadca79",
   "metadata": {},
   "outputs": [],
   "source": [
    "# Power calculations\n",
    "result = calculate(operation=Operation.POWER, num=2, power=10)\n",
    "print(f\"2^10 = {result}\")\n",
    "\n",
    "result = calculate(operation=Operation.POWER, num=5, power=3)\n",
    "print(f\"5^3 = {result}\")\n",
    "\n",
    "# Square root\n",
    "result = calculate(operation=Operation.SQUARE_ROOT, num=64)\n",
    "print(f\"√64 = {result}\")\n",
    "\n",
    "result = calculate(operation=Operation.SQUARE_ROOT, num=100)\n",
    "print(f\"√100 = {result}\")"
   ]
  },
  {
   "cell_type": "markdown",
   "id": "788d9852",
   "metadata": {},
   "source": [
    "## 📐 Geometry Operations\n",
    "\n",
    "Now let's work with geometric shapes:"
   ]
  },
  {
   "cell_type": "code",
   "execution_count": null,
   "id": "2380d8f4",
   "metadata": {},
   "outputs": [],
   "source": [
    "import math\n",
    "\n",
    "# Circle calculations\n",
    "radius = 5\n",
    "area = calculate(operation=Operation.AREA_CIRCLE, radius=radius)\n",
    "circumference = calculate(operation=Operation.CIRCUMFERENCE_CIRCLE, radius=radius)\n",
    "\n",
    "print(f\"Circle with radius {radius}:\")\n",
    "print(f\"  Area: {area:.2f}\")\n",
    "print(f\"  Circumference: {circumference:.2f}\")\n",
    "print(f\"  Expected area: {math.pi * radius**2:.2f}\")"
   ]
  },
  {
   "cell_type": "code",
   "execution_count": null,
   "id": "9c3b6642",
   "metadata": {},
   "outputs": [],
   "source": [
    "# Rectangle calculations\n",
    "length, width = 12, 8\n",
    "area = calculate(operation=Operation.AREA_RECTANGLE, length=length, width=width)\n",
    "perimeter = calculate(operation=Operation.PERIMETER_RECTANGLE, length=length, width=width)\n",
    "\n",
    "print(f\"Rectangle {length} × {width}:\")\n",
    "print(f\"  Area: {area}\")\n",
    "print(f\"  Perimeter: {perimeter}\")"
   ]
  },
  {
   "cell_type": "code",
   "execution_count": null,
   "id": "1e2a2563",
   "metadata": {},
   "outputs": [],
   "source": [
    "# Triangle calculations\n",
    "base, height = 10, 6\n",
    "area = calculate(operation=Operation.AREA_TRIANGLE, base=base, height=height)\n",
    "\n",
    "print(f\"Triangle with base {base} and height {height}:\")\n",
    "print(f\"  Area: {area}\")"
   ]
  },
  {
   "cell_type": "markdown",
   "id": "e6c6221c",
   "metadata": {},
   "source": [
    "## ⚠️ Error Handling Examples\n",
    "\n",
    "The engine provides strict validation. Let's see how it handles errors:"
   ]
  },
  {
   "cell_type": "code",
   "execution_count": null,
   "id": "57455a5e",
   "metadata": {},
   "outputs": [],
   "source": [
    "# Example 1: Missing required argument\n",
    "try:\n",
    "    result = calculate(operation=Operation.ADD, a=5)  # Missing 'b'\n",
    "except ValueError as e:\n",
    "    print(f\"❌ Missing argument error: {e}\")\n",
    "\n",
    "# Example 2: Unexpected argument\n",
    "try:\n",
    "    result = calculate(operation=Operation.ADD, a=5, b=3, c=1)  # 'c' not expected\n",
    "except ValueError as e:\n",
    "    print(f\"❌ Unexpected argument error: {e}\")\n",
    "\n",
    "# Example 3: Division by zero\n",
    "try:\n",
    "    result = calculate(operation=Operation.DIVIDE, a=10, b=0)\n",
    "except ValueError as e:\n",
    "    print(f\"❌ Division by zero error: {e}\")"
   ]
  },
  {
   "cell_type": "markdown",
   "id": "a817655f",
   "metadata": {},
   "source": [
    "## 🧪 Interactive Calculation Playground\n",
    "\n",
    "Use this cell to try your own calculations:"
   ]
  },
  {
   "cell_type": "code",
   "execution_count": null,
   "id": "c2411e06",
   "metadata": {},
   "outputs": [],
   "source": [
    "# Try your own calculations here!\n",
    "# Examples:\n",
    "# calculate(operation=Operation.POWER, num=3, power=4)\n",
    "# calculate(operation=Operation.AREA_CIRCLE, radius=7.5)\n",
    "# calculate(operation=Operation.MULTIPLY, a=12, b=15)\n",
    "\n",
    "# Your code here:"
   ]
  },
  {
   "cell_type": "markdown",
   "id": "d6308a57",
   "metadata": {},
   "source": [
    "## 📊 Operation Information Helper\n",
    "\n",
    "Get detailed information about any operation:"
   ]
  },
  {
   "cell_type": "code",
   "execution_count": null,
   "id": "d7c08b13",
   "metadata": {},
   "outputs": [],
   "source": [
    "# Get info about a specific operation\n",
    "operation = Operation.AREA_CIRCLE  # Change this to explore other operations\n",
    "info = get_operation_info(operation)\n",
    "\n",
    "if info:\n",
    "    print(f\"Operation: {info['operation'].name}\")\n",
    "    print(f\"Function: {info['function_name']}\")\n",
    "    print(f\"Required arguments: {', '.join(info['required_args'])}\")\n",
    "    print(f\"Description: {info['docstring']}\")\n",
    "else:\n",
    "    print(\"Operation not found\")"
   ]
  },
  {
   "cell_type": "markdown",
   "id": "19f4e9f5",
   "metadata": {},
   "source": [
    "## 🎯 Complex Calculation Examples\n",
    "\n",
    "Let's combine multiple operations for more complex calculations:"
   ]
  },
  {
   "cell_type": "code",
   "execution_count": null,
   "id": "8d6c5fcb",
   "metadata": {},
   "outputs": [],
   "source": [
    "# Calculate the area of a circular garden and surrounding walkway\n",
    "garden_radius = 5\n",
    "walkway_width = 2\n",
    "total_radius = garden_radius + walkway_width\n",
    "\n",
    "garden_area = calculate(operation=Operation.AREA_CIRCLE, radius=garden_radius)\n",
    "total_area = calculate(operation=Operation.AREA_CIRCLE, radius=total_radius)\n",
    "walkway_area = calculate(operation=Operation.SUBTRACT, a=total_area, b=garden_area)\n",
    "\n",
    "print(f\"Garden Design Calculation:\")\n",
    "print(f\"  Garden radius: {garden_radius}m\")\n",
    "print(f\"  Walkway width: {walkway_width}m\")\n",
    "print(f\"  Garden area: {garden_area:.2f} m²\")\n",
    "print(f\"  Walkway area: {walkway_area:.2f} m²\")\n",
    "print(f\"  Total area: {total_area:.2f} m²\")"
   ]
  },
  {
   "cell_type": "code",
   "execution_count": null,
   "id": "cae6049d",
   "metadata": {},
   "outputs": [],
   "source": [
    "# Calculate compound interest using power function\n",
    "principal = 1000  # Initial amount\n",
    "rate = 1.05       # 5% annual interest (1 + 0.05)\n",
    "years = 10\n",
    "\n",
    "# A = P(1 + r)^t\n",
    "amount = calculate(operation=Operation.MULTIPLY, \n",
    "                  a=principal, \n",
    "                  b=calculate(operation=Operation.POWER, num=rate, power=years))\n",
    "\n",
    "interest_earned = calculate(operation=Operation.SUBTRACT, a=amount, b=principal)\n",
    "\n",
    "print(f\"Compound Interest Calculation:\")\n",
    "print(f\"  Principal: ${principal:,.2f}\")\n",
    "print(f\"  Annual rate: 5%\")\n",
    "print(f\"  Years: {years}\")\n",
    "print(f\"  Final amount: ${amount:,.2f}\")\n",
    "print(f\"  Interest earned: ${interest_earned:,.2f}\")"
   ]
  },
  {
   "cell_type": "markdown",
   "id": "56e57682",
   "metadata": {},
   "source": [
    "## 🎉 Congratulations!\n",
    "\n",
    "You've successfully explored the Math Calculation Engine! \n",
    "\n",
    "### Next Steps:\n",
    "- Try the CLI version: `python calc.py --interactive`\n",
    "- Explore the source code in the `core/` directory\n",
    "- Add your own operations by extending the formulas modules\n",
    "- Use the engine in your own Python projects\n",
    "\n",
    "### Key Features Demonstrated:\n",
    "✅ Strict argument validation  \n",
    "✅ Multiple operation categories  \n",
    "✅ Comprehensive error handling  \n",
    "✅ Easy extensibility  \n",
    "✅ Both programmatic and interactive use  \n",
    "\n",
    "Happy calculating! 🧮"
   ]
  }
 ],
 "metadata": {
  "language_info": {
   "name": "python"
  }
 },
 "nbformat": 4,
 "nbformat_minor": 5
}
